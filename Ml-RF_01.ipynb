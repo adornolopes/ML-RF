{
 "cells": [
  {
   "cell_type": "markdown",
   "metadata": {},
   "source": [
    "Reading Compounds"
   ]
  },
  {
   "cell_type": "markdown",
   "metadata": {},
   "source": [
    "Featurizing, Element Fraction and MagPie"
   ]
  },
  {
   "cell_type": "code",
   "execution_count": 1,
   "metadata": {},
   "outputs": [],
   "source": [
    "import re, numpy as np, os, sys, pandas\n",
    "from pymatgen.core.composition import Composition\n",
    "import data_utils\n",
    "from pymatgen.core.composition import Composition\n",
    "from matminer.featurizers.base import MultipleFeaturizer\n",
    "from matminer.featurizers import composition as cf\n",
    "from matminer.featurizers.conversions import StrToComposition\n",
    "from sklearn.model_selection import train_test_split\n",
    "from sklearn.model_selection import KFold"
   ]
  },
  {
   "cell_type": "code",
   "execution_count": null,
   "metadata": {},
   "outputs": [
    {
     "name": "stdout",
     "output_type": "stream",
     "text": [
      "<class 'pandas.core.frame.DataFrame'>\n",
      "RangeIndex: 59 entries, 0 to 58\n",
      "Data columns (total 3 columns):\n",
      " #   Column       Non-Null Count  Dtype \n",
      "---  ------       --------------  ----- \n",
      " 0   pretty_comp  59 non-null     object\n",
      " 1   material_id  59 non-null     object\n",
      " 2   nsites       59 non-null     int64 \n",
      "dtypes: int64(1), object(2)\n",
      "memory usage: 1.5+ KB\n"
     ]
    }
   ],
   "source": [
    "data_path = 'Compounds_input.csv'  ## create excel with compounds listed in the firs column\n",
    "data_DFT = pandas.read_csv(data_path)\n",
    "data_DFT.info()"
   ]
  },
  {
   "cell_type": "code",
   "execution_count": 3,
   "metadata": {},
   "outputs": [
    {
     "data": {
      "text/html": [
       "<div>\n",
       "<style scoped>\n",
       "    .dataframe tbody tr th:only-of-type {\n",
       "        vertical-align: middle;\n",
       "    }\n",
       "\n",
       "    .dataframe tbody tr th {\n",
       "        vertical-align: top;\n",
       "    }\n",
       "\n",
       "    .dataframe thead th {\n",
       "        text-align: right;\n",
       "    }\n",
       "</style>\n",
       "<table border=\"1\" class=\"dataframe\">\n",
       "  <thead>\n",
       "    <tr style=\"text-align: right;\">\n",
       "      <th></th>\n",
       "      <th>nsites</th>\n",
       "    </tr>\n",
       "  </thead>\n",
       "  <tbody>\n",
       "    <tr>\n",
       "      <th>count</th>\n",
       "      <td>59.000000</td>\n",
       "    </tr>\n",
       "    <tr>\n",
       "      <th>mean</th>\n",
       "      <td>16.406780</td>\n",
       "    </tr>\n",
       "    <tr>\n",
       "      <th>std</th>\n",
       "      <td>14.441462</td>\n",
       "    </tr>\n",
       "    <tr>\n",
       "      <th>min</th>\n",
       "      <td>2.000000</td>\n",
       "    </tr>\n",
       "    <tr>\n",
       "      <th>25%</th>\n",
       "      <td>6.000000</td>\n",
       "    </tr>\n",
       "    <tr>\n",
       "      <th>50%</th>\n",
       "      <td>11.000000</td>\n",
       "    </tr>\n",
       "    <tr>\n",
       "      <th>75%</th>\n",
       "      <td>22.000000</td>\n",
       "    </tr>\n",
       "    <tr>\n",
       "      <th>max</th>\n",
       "      <td>56.000000</td>\n",
       "    </tr>\n",
       "  </tbody>\n",
       "</table>\n",
       "</div>"
      ],
      "text/plain": [
       "          nsites\n",
       "count  59.000000\n",
       "mean   16.406780\n",
       "std    14.441462\n",
       "min     2.000000\n",
       "25%     6.000000\n",
       "50%    11.000000\n",
       "75%    22.000000\n",
       "max    56.000000"
      ]
     },
     "execution_count": 3,
     "metadata": {},
     "output_type": "execute_result"
    }
   ],
   "source": [
    "data_DFT.describe()"
   ]
  },
  {
   "cell_type": "code",
   "execution_count": 4,
   "metadata": {},
   "outputs": [
    {
     "name": "stdout",
     "output_type": "stream",
     "text": [
      "CPU times: total: 0 ns\n",
      "Wall time: 0 ns\n"
     ]
    }
   ],
   "source": [
    "%%time\n",
    "data_DFT['comp_obj'] = data_DFT['pretty_comp'].apply(lambda x: Composition(x))"
   ]
  },
  {
   "cell_type": "code",
   "execution_count": 5,
   "metadata": {},
   "outputs": [
    {
     "name": "stdout",
     "output_type": "stream",
     "text": [
      "CPU times: total: 0 ns\n",
      "Wall time: 0 ns\n"
     ]
    }
   ],
   "source": [
    "%%time\n",
    "data_DFT['composition'] = data_DFT['comp_obj'].apply(lambda x: x.reduced_formula)"
   ]
  },
  {
   "cell_type": "code",
   "execution_count": 6,
   "metadata": {},
   "outputs": [],
   "source": [
    "data_DFT['nelems'] = data_DFT['comp_obj'].apply(lambda x: len(x))"
   ]
  },
  {
   "cell_type": "code",
   "execution_count": 7,
   "metadata": {},
   "outputs": [
    {
     "data": {
      "text/html": [
       "<div>\n",
       "<style scoped>\n",
       "    .dataframe tbody tr th:only-of-type {\n",
       "        vertical-align: middle;\n",
       "    }\n",
       "\n",
       "    .dataframe tbody tr th {\n",
       "        vertical-align: top;\n",
       "    }\n",
       "\n",
       "    .dataframe thead th {\n",
       "        text-align: right;\n",
       "    }\n",
       "</style>\n",
       "<table border=\"1\" class=\"dataframe\">\n",
       "  <thead>\n",
       "    <tr style=\"text-align: right;\">\n",
       "      <th></th>\n",
       "      <th>pretty_comp</th>\n",
       "      <th>material_id</th>\n",
       "      <th>nsites</th>\n",
       "      <th>comp_obj</th>\n",
       "      <th>composition</th>\n",
       "    </tr>\n",
       "    <tr>\n",
       "      <th>nelems</th>\n",
       "      <th></th>\n",
       "      <th></th>\n",
       "      <th></th>\n",
       "      <th></th>\n",
       "      <th></th>\n",
       "    </tr>\n",
       "  </thead>\n",
       "  <tbody>\n",
       "    <tr>\n",
       "      <th>2</th>\n",
       "      <td>59</td>\n",
       "      <td>59</td>\n",
       "      <td>59</td>\n",
       "      <td>59</td>\n",
       "      <td>59</td>\n",
       "    </tr>\n",
       "  </tbody>\n",
       "</table>\n",
       "</div>"
      ],
      "text/plain": [
       "        pretty_comp  material_id  nsites  comp_obj  composition\n",
       "nelems                                                         \n",
       "2                59           59      59        59           59"
      ]
     },
     "execution_count": 7,
     "metadata": {},
     "output_type": "execute_result"
    }
   ],
   "source": [
    "data_DFT.groupby('nelems').count()"
   ]
  },
  {
   "cell_type": "code",
   "execution_count": 8,
   "metadata": {},
   "outputs": [
    {
     "name": "stdout",
     "output_type": "stream",
     "text": [
      "        pretty_comp  material_id  nsites  comp_obj  composition\n",
      "nelems                                                         \n",
      "2                59           59      59        59           59\n"
     ]
    },
    {
     "data": {
      "text/plain": [
       "(59, 6)"
      ]
     },
     "execution_count": 8,
     "metadata": {},
     "output_type": "execute_result"
    }
   ],
   "source": [
    "data_DFT.query('nelems > 1', inplace=True)\n",
    "print (data_DFT.groupby('nelems').count())\n",
    "data_DFT.shape"
   ]
  },
  {
   "cell_type": "code",
   "execution_count": 9,
   "metadata": {},
   "outputs": [
    {
     "name": "stdout",
     "output_type": "stream",
     "text": [
      "CPU times: total: 0 ns\n",
      "Wall time: 180 µs\n"
     ]
    }
   ],
   "source": [
    "%%time\n",
    "data_DFT['comp_dict'] = data_DFT['composition'].apply(lambda x: data_utils.parse_formula(x))"
   ]
  },
  {
   "cell_type": "code",
   "execution_count": 10,
   "metadata": {},
   "outputs": [
    {
     "name": "stdout",
     "output_type": "stream",
     "text": [
      "{'C', 'N', 'U', 'O', 'F', 'Si', 'Mo'}\n",
      "CPU times: total: 0 ns\n",
      "Wall time: 1 ms\n"
     ]
    }
   ],
   "source": [
    "%%time\n",
    "elements_present = set()\n",
    "for i, row in data_DFT.iterrows():\n",
    "    elements_present |= set(row['comp_dict'].keys())\n",
    "print (elements_present)"
   ]
  },
  {
   "cell_type": "code",
   "execution_count": 11,
   "metadata": {},
   "outputs": [],
   "source": [
    "elements = ['H', 'He', 'Li', 'Be', 'B', 'C', 'N', 'O', 'F', 'Ne', 'Na', 'Mg', 'Al', 'Si', 'P', 'S', 'Cl', 'Ar', 'K', \n",
    "            'Ca', 'Sc', 'Ti', 'V', 'Cr', 'Mn', 'Fe', 'Co', 'Ni', 'Cu', 'Zn', 'Ga', 'Ge', 'As', 'Se', 'Br', 'Kr', 'Rb',\n",
    "            'Sr', 'Y', 'Zr', 'Nb', 'Mo', 'Tc', 'Ru', 'Rh', 'Pd', 'Ag', 'Cd', 'In', 'Sn', 'Sb', 'Te', 'I', 'Xe', 'Cs', \n",
    "            'Ba', 'La', 'Ce', 'Pr', 'Nd', 'Pm', 'Sm', 'Eu', 'Gd', 'Tb', 'Dy', 'Ho', 'Er', 'Tm', 'Yb', 'Lu', 'Hf', 'Ta',\n",
    "            'W', 'Re', 'Os', 'Ir', 'Pt', 'Au', 'Hg', 'Tl', 'Pb', 'Bi', 'Po', 'At', 'Rn', 'Fr', 'Ra', 'Ac', 'Th', 'Pa',\n",
    "            'U', 'Np', 'Pu', 'Am', 'Cm', 'Bk', 'Cf', 'Es', 'Fm', 'Md', 'No', 'Lr', 'Rf', 'Db', 'Sg', 'Bh', 'Hs', 'Mt',\n",
    "            'Ds', 'Rg', 'Cn']\n",
    "\n",
    "\n",
    "elements_tl = ['H', 'Li', 'Be', 'B', 'C', 'N', 'O', 'F', 'Na', 'Mg', 'Al', 'Si', 'P', 'S', 'Cl', 'K',\n",
    " 'Ca', 'Sc', 'Ti', 'V', 'Cr', 'Mn', 'Fe', 'Co', 'Ni', 'Cu', 'Zn', 'Ga', 'Ge', 'As', 'Se',\n",
    " 'Br', 'Kr', 'Rb', 'Sr', 'Y', 'Zr', 'Nb', 'Mo', 'Tc', 'Ru', 'Rh', 'Pd', 'Ag', 'Cd', 'In',\n",
    " 'Sn', 'Sb', 'Te', 'I', 'Xe', 'Cs', 'Ba', 'La', 'Ce', 'Pr', 'Nd', 'Pm', 'Sm', 'Eu', 'Gd',\n",
    " 'Tb', 'Dy', 'Ho', 'Er', 'Tm', 'Yb', 'Lu', 'Hf', 'Ta', 'W', 'Re', 'Os', 'Ir', 'Pt', 'Au',\n",
    " 'Hg', 'Tl', 'Pb', 'Bi', 'Ac','Th', 'Pa', 'U', 'Np', 'Pu']\n",
    "\n",
    "elem_pos = dict()\n",
    "i=0\n",
    "for el in elements:\n",
    "   elem_pos[el] = i\n",
    "   i+=1"
   ]
  },
  {
   "cell_type": "code",
   "execution_count": 12,
   "metadata": {},
   "outputs": [
    {
     "name": "stdout",
     "output_type": "stream",
     "text": [
      "{'C', 'N', 'U', 'O', 'F', 'Si', 'Mo'} 7\n",
      "[]\n",
      "['H', 'Li', 'Be', 'B', 'Na', 'Mg', 'Al', 'P', 'S', 'Cl', 'K', 'Ca', 'Sc', 'Ti', 'V', 'Cr', 'Mn', 'Fe', 'Co', 'Ni', 'Cu', 'Zn', 'Ga', 'Ge', 'As', 'Se', 'Br', 'Kr', 'Rb', 'Sr', 'Y', 'Zr', 'Nb', 'Tc', 'Ru', 'Rh', 'Pd', 'Ag', 'Cd', 'In', 'Sn', 'Sb', 'Te', 'I', 'Xe', 'Cs', 'Ba', 'La', 'Ce', 'Pr', 'Nd', 'Pm', 'Sm', 'Eu', 'Gd', 'Tb', 'Dy', 'Ho', 'Er', 'Tm', 'Yb', 'Lu', 'Hf', 'Ta', 'W', 'Re', 'Os', 'Ir', 'Pt', 'Au', 'Hg', 'Tl', 'Pb', 'Bi', 'Ac', 'Th', 'Pa', 'Np', 'Pu']\n"
     ]
    }
   ],
   "source": [
    "print (elements_present, len(elements_present))\n",
    "print ([e for e in elements_present if e not in elements_tl])\n",
    "print ([e for e in elements_tl if e not in elements_present])"
   ]
  },
  {
   "cell_type": "code",
   "execution_count": 13,
   "metadata": {},
   "outputs": [],
   "source": [
    "data_DFT['comp_fractions'] = data_DFT['comp_dict'].apply(lambda x: data_utils.get_fractions(x))"
   ]
  },
  {
   "cell_type": "code",
   "execution_count": 14,
   "metadata": {},
   "outputs": [
    {
     "name": "stdout",
     "output_type": "stream",
     "text": [
      "  pretty_comp material_id  nsites comp_obj composition  nelems  \\\n",
      "0       U11O5   mp-673671      16   (U, O)       U11O5       2   \n",
      "\n",
      "                    comp_dict  \\\n",
      "0  {'U': 0.6875, 'O': 0.3125}   \n",
      "\n",
      "                                      comp_fractions  \n",
      "0  [0.0, 0.0, 0.0, 0.0, 0.0, 0.0, 0.3125, 0.0, 0....  \n",
      "(59, 8)\n",
      "(59, 8)\n"
     ]
    }
   ],
   "source": [
    "print (data_DFT[:1])\n",
    "#oqmd_data['solution_term'] = oqmd_data['comp_obj'].apply(lambda x: compute_mixing_term(x))\n",
    "print (data_DFT.shape)\n",
    "data_DFT = data_DFT[~data_DFT['comp_fractions'].isnull()]\n",
    "print (data_DFT.shape)"
   ]
  },
  {
   "cell_type": "code",
   "execution_count": 15,
   "metadata": {},
   "outputs": [
    {
     "data": {
      "text/plain": [
       "(59, 94)"
      ]
     },
     "execution_count": 15,
     "metadata": {},
     "output_type": "execute_result"
    }
   ],
   "source": [
    "for i,e in enumerate(elements_tl):\n",
    "    data_DFT[e] = [ x[i] for x in data_DFT['comp_fractions']]\n",
    "data_DFT.shape"
   ]
  },
  {
   "cell_type": "code",
   "execution_count": 16,
   "metadata": {},
   "outputs": [
    {
     "data": {
      "text/plain": [
       "Index(['pretty_comp', 'material_id', 'nsites', 'comp_obj', 'composition',\n",
       "       'nelems', 'comp_dict', 'comp_fractions', 'H', 'Li', 'Be', 'B', 'C', 'N',\n",
       "       'O', 'F', 'Na', 'Mg', 'Al', 'Si', 'P', 'S', 'Cl', 'K', 'Ca', 'Sc', 'Ti',\n",
       "       'V', 'Cr', 'Mn', 'Fe', 'Co', 'Ni', 'Cu', 'Zn', 'Ga', 'Ge', 'As', 'Se',\n",
       "       'Br', 'Kr', 'Rb', 'Sr', 'Y', 'Zr', 'Nb', 'Mo', 'Tc', 'Ru', 'Rh', 'Pd',\n",
       "       'Ag', 'Cd', 'In', 'Sn', 'Sb', 'Te', 'I', 'Xe', 'Cs', 'Ba', 'La', 'Ce',\n",
       "       'Pr', 'Nd', 'Pm', 'Sm', 'Eu', 'Gd', 'Tb', 'Dy', 'Ho', 'Er', 'Tm', 'Yb',\n",
       "       'Lu', 'Hf', 'Ta', 'W', 'Re', 'Os', 'Ir', 'Pt', 'Au', 'Hg', 'Tl', 'Pb',\n",
       "       'Bi', 'Ac', 'Th', 'Pa', 'U', 'Np', 'Pu'],\n",
       "      dtype='object')"
      ]
     },
     "execution_count": 16,
     "metadata": {},
     "output_type": "execute_result"
    }
   ],
   "source": [
    "data_DFT.columns"
   ]
  },
  {
   "cell_type": "code",
   "execution_count": 17,
   "metadata": {},
   "outputs": [],
   "source": [
    "feature_calculators = MultipleFeaturizer([cf.Stoichiometry(), cf.ElementProperty.from_preset(\"magpie\"),\n",
    "                                          cf.ValenceOrbital(props=['avg']), cf.IonProperty(fast=True)])"
   ]
  },
  {
   "cell_type": "code",
   "execution_count": 18,
   "metadata": {},
   "outputs": [],
   "source": [
    "feature_labels = feature_calculators.feature_labels()"
   ]
  },
  {
   "cell_type": "code",
   "execution_count": 19,
   "metadata": {},
   "outputs": [
    {
     "name": "stdout",
     "output_type": "stream",
     "text": [
      "['0-norm', '2-norm', '3-norm', '5-norm', '7-norm', '10-norm', 'MagpieData minimum Number', 'MagpieData maximum Number', 'MagpieData range Number', 'MagpieData mean Number', 'MagpieData avg_dev Number', 'MagpieData mode Number', 'MagpieData minimum MendeleevNumber', 'MagpieData maximum MendeleevNumber', 'MagpieData range MendeleevNumber', 'MagpieData mean MendeleevNumber', 'MagpieData avg_dev MendeleevNumber', 'MagpieData mode MendeleevNumber', 'MagpieData minimum AtomicWeight', 'MagpieData maximum AtomicWeight', 'MagpieData range AtomicWeight', 'MagpieData mean AtomicWeight', 'MagpieData avg_dev AtomicWeight', 'MagpieData mode AtomicWeight', 'MagpieData minimum MeltingT', 'MagpieData maximum MeltingT', 'MagpieData range MeltingT', 'MagpieData mean MeltingT', 'MagpieData avg_dev MeltingT', 'MagpieData mode MeltingT', 'MagpieData minimum Column', 'MagpieData maximum Column', 'MagpieData range Column', 'MagpieData mean Column', 'MagpieData avg_dev Column', 'MagpieData mode Column', 'MagpieData minimum Row', 'MagpieData maximum Row', 'MagpieData range Row', 'MagpieData mean Row', 'MagpieData avg_dev Row', 'MagpieData mode Row', 'MagpieData minimum CovalentRadius', 'MagpieData maximum CovalentRadius', 'MagpieData range CovalentRadius', 'MagpieData mean CovalentRadius', 'MagpieData avg_dev CovalentRadius', 'MagpieData mode CovalentRadius', 'MagpieData minimum Electronegativity', 'MagpieData maximum Electronegativity', 'MagpieData range Electronegativity', 'MagpieData mean Electronegativity', 'MagpieData avg_dev Electronegativity', 'MagpieData mode Electronegativity', 'MagpieData minimum NsValence', 'MagpieData maximum NsValence', 'MagpieData range NsValence', 'MagpieData mean NsValence', 'MagpieData avg_dev NsValence', 'MagpieData mode NsValence', 'MagpieData minimum NpValence', 'MagpieData maximum NpValence', 'MagpieData range NpValence', 'MagpieData mean NpValence', 'MagpieData avg_dev NpValence', 'MagpieData mode NpValence', 'MagpieData minimum NdValence', 'MagpieData maximum NdValence', 'MagpieData range NdValence', 'MagpieData mean NdValence', 'MagpieData avg_dev NdValence', 'MagpieData mode NdValence', 'MagpieData minimum NfValence', 'MagpieData maximum NfValence', 'MagpieData range NfValence', 'MagpieData mean NfValence', 'MagpieData avg_dev NfValence', 'MagpieData mode NfValence', 'MagpieData minimum NValence', 'MagpieData maximum NValence', 'MagpieData range NValence', 'MagpieData mean NValence', 'MagpieData avg_dev NValence', 'MagpieData mode NValence', 'MagpieData minimum NsUnfilled', 'MagpieData maximum NsUnfilled', 'MagpieData range NsUnfilled', 'MagpieData mean NsUnfilled', 'MagpieData avg_dev NsUnfilled', 'MagpieData mode NsUnfilled', 'MagpieData minimum NpUnfilled', 'MagpieData maximum NpUnfilled', 'MagpieData range NpUnfilled', 'MagpieData mean NpUnfilled', 'MagpieData avg_dev NpUnfilled', 'MagpieData mode NpUnfilled', 'MagpieData minimum NdUnfilled', 'MagpieData maximum NdUnfilled', 'MagpieData range NdUnfilled', 'MagpieData mean NdUnfilled', 'MagpieData avg_dev NdUnfilled', 'MagpieData mode NdUnfilled', 'MagpieData minimum NfUnfilled', 'MagpieData maximum NfUnfilled', 'MagpieData range NfUnfilled', 'MagpieData mean NfUnfilled', 'MagpieData avg_dev NfUnfilled', 'MagpieData mode NfUnfilled', 'MagpieData minimum NUnfilled', 'MagpieData maximum NUnfilled', 'MagpieData range NUnfilled', 'MagpieData mean NUnfilled', 'MagpieData avg_dev NUnfilled', 'MagpieData mode NUnfilled', 'MagpieData minimum GSvolume_pa', 'MagpieData maximum GSvolume_pa', 'MagpieData range GSvolume_pa', 'MagpieData mean GSvolume_pa', 'MagpieData avg_dev GSvolume_pa', 'MagpieData mode GSvolume_pa', 'MagpieData minimum GSbandgap', 'MagpieData maximum GSbandgap', 'MagpieData range GSbandgap', 'MagpieData mean GSbandgap', 'MagpieData avg_dev GSbandgap', 'MagpieData mode GSbandgap', 'MagpieData minimum GSmagmom', 'MagpieData maximum GSmagmom', 'MagpieData range GSmagmom', 'MagpieData mean GSmagmom', 'MagpieData avg_dev GSmagmom', 'MagpieData mode GSmagmom', 'MagpieData minimum SpaceGroupNumber', 'MagpieData maximum SpaceGroupNumber', 'MagpieData range SpaceGroupNumber', 'MagpieData mean SpaceGroupNumber', 'MagpieData avg_dev SpaceGroupNumber', 'MagpieData mode SpaceGroupNumber', 'avg s valence electrons', 'avg p valence electrons', 'avg d valence electrons', 'avg f valence electrons', 'compound possible', 'max ionic char', 'avg ionic char'] 145\n"
     ]
    }
   ],
   "source": [
    "print (feature_labels, len(feature_labels))"
   ]
  },
  {
   "cell_type": "code",
   "execution_count": 20,
   "metadata": {},
   "outputs": [
    {
     "data": {
      "application/vnd.jupyter.widget-view+json": {
       "model_id": "634524470ad64cb88ea494c9978bea08",
       "version_major": 2,
       "version_minor": 0
      },
      "text/plain": [
       "MultipleFeaturizer:   0%|          | 0/59 [00:00<?, ?it/s]"
      ]
     },
     "metadata": {},
     "output_type": "display_data"
    },
    {
     "name": "stdout",
     "output_type": "stream",
     "text": [
      "CPU times: total: 78.1 ms\n",
      "Wall time: 3.38 s\n"
     ]
    }
   ],
   "source": [
    "%%time\n",
    "data_DFT = feature_calculators.featurize_dataframe(data_DFT, col_id='comp_obj');"
   ]
  },
  {
   "cell_type": "code",
   "execution_count": 21,
   "metadata": {},
   "outputs": [
    {
     "data": {
      "text/plain": [
       "(59, 145)"
      ]
     },
     "execution_count": 21,
     "metadata": {},
     "output_type": "execute_result"
    }
   ],
   "source": [
    "data_DFT[feature_labels].shape"
   ]
  },
  {
   "cell_type": "code",
   "execution_count": 22,
   "metadata": {},
   "outputs": [
    {
     "name": "stdout",
     "output_type": "stream",
     "text": [
      "(59, 239)\n"
     ]
    }
   ],
   "source": [
    "data_DFT = data_DFT[~data_DFT[feature_labels].isnull().any(axis=1)]\n",
    "print (data_DFT.shape)"
   ]
  },
  {
   "cell_type": "code",
   "execution_count": 23,
   "metadata": {},
   "outputs": [
    {
     "data": {
      "text/html": [
       "<div>\n",
       "<style scoped>\n",
       "    .dataframe tbody tr th:only-of-type {\n",
       "        vertical-align: middle;\n",
       "    }\n",
       "\n",
       "    .dataframe tbody tr th {\n",
       "        vertical-align: top;\n",
       "    }\n",
       "\n",
       "    .dataframe thead th {\n",
       "        text-align: right;\n",
       "    }\n",
       "</style>\n",
       "<table border=\"1\" class=\"dataframe\">\n",
       "  <thead>\n",
       "    <tr style=\"text-align: right;\">\n",
       "      <th></th>\n",
       "      <th>nsites</th>\n",
       "      <th>nelems</th>\n",
       "      <th>H</th>\n",
       "      <th>Li</th>\n",
       "      <th>Be</th>\n",
       "      <th>B</th>\n",
       "      <th>C</th>\n",
       "      <th>N</th>\n",
       "      <th>O</th>\n",
       "      <th>F</th>\n",
       "      <th>...</th>\n",
       "      <th>MagpieData range SpaceGroupNumber</th>\n",
       "      <th>MagpieData mean SpaceGroupNumber</th>\n",
       "      <th>MagpieData avg_dev SpaceGroupNumber</th>\n",
       "      <th>MagpieData mode SpaceGroupNumber</th>\n",
       "      <th>avg s valence electrons</th>\n",
       "      <th>avg p valence electrons</th>\n",
       "      <th>avg d valence electrons</th>\n",
       "      <th>avg f valence electrons</th>\n",
       "      <th>max ionic char</th>\n",
       "      <th>avg ionic char</th>\n",
       "    </tr>\n",
       "  </thead>\n",
       "  <tbody>\n",
       "    <tr>\n",
       "      <th>count</th>\n",
       "      <td>59.000000</td>\n",
       "      <td>59.0</td>\n",
       "      <td>59.0</td>\n",
       "      <td>59.0</td>\n",
       "      <td>59.0</td>\n",
       "      <td>59.0</td>\n",
       "      <td>59.000000</td>\n",
       "      <td>59.000000</td>\n",
       "      <td>59.000000</td>\n",
       "      <td>59.000000</td>\n",
       "      <td>...</td>\n",
       "      <td>59.000000</td>\n",
       "      <td>59.000000</td>\n",
       "      <td>59.000000</td>\n",
       "      <td>59.000000</td>\n",
       "      <td>59.000000</td>\n",
       "      <td>59.000000</td>\n",
       "      <td>59.000000</td>\n",
       "      <td>59.000000</td>\n",
       "      <td>59.000000</td>\n",
       "      <td>59.000000</td>\n",
       "    </tr>\n",
       "    <tr>\n",
       "      <th>mean</th>\n",
       "      <td>16.406780</td>\n",
       "      <td>2.0</td>\n",
       "      <td>0.0</td>\n",
       "      <td>0.0</td>\n",
       "      <td>0.0</td>\n",
       "      <td>0.0</td>\n",
       "      <td>0.026836</td>\n",
       "      <td>0.024742</td>\n",
       "      <td>0.443316</td>\n",
       "      <td>0.089387</td>\n",
       "      <td>...</td>\n",
       "      <td>78.101695</td>\n",
       "      <td>54.111544</td>\n",
       "      <td>31.562049</td>\n",
       "      <td>38.711864</td>\n",
       "      <td>1.966808</td>\n",
       "      <td>2.418150</td>\n",
       "      <td>0.513460</td>\n",
       "      <td>1.042498</td>\n",
       "      <td>0.553263</td>\n",
       "      <td>0.104254</td>\n",
       "    </tr>\n",
       "    <tr>\n",
       "      <th>std</th>\n",
       "      <td>14.441462</td>\n",
       "      <td>0.0</td>\n",
       "      <td>0.0</td>\n",
       "      <td>0.0</td>\n",
       "      <td>0.0</td>\n",
       "      <td>0.0</td>\n",
       "      <td>0.125183</td>\n",
       "      <td>0.114334</td>\n",
       "      <td>0.366590</td>\n",
       "      <td>0.248779</td>\n",
       "      <td>...</td>\n",
       "      <td>46.441916</td>\n",
       "      <td>48.350098</td>\n",
       "      <td>22.615943</td>\n",
       "      <td>53.803298</td>\n",
       "      <td>0.118302</td>\n",
       "      <td>1.186384</td>\n",
       "      <td>0.672581</td>\n",
       "      <td>0.547679</td>\n",
       "      <td>0.231287</td>\n",
       "      <td>0.046288</td>\n",
       "    </tr>\n",
       "    <tr>\n",
       "      <th>min</th>\n",
       "      <td>2.000000</td>\n",
       "      <td>2.0</td>\n",
       "      <td>0.0</td>\n",
       "      <td>0.0</td>\n",
       "      <td>0.0</td>\n",
       "      <td>0.0</td>\n",
       "      <td>0.000000</td>\n",
       "      <td>0.000000</td>\n",
       "      <td>0.000000</td>\n",
       "      <td>0.000000</td>\n",
       "      <td>...</td>\n",
       "      <td>48.000000</td>\n",
       "      <td>16.250000</td>\n",
       "      <td>7.791667</td>\n",
       "      <td>12.000000</td>\n",
       "      <td>1.500000</td>\n",
       "      <td>0.000000</td>\n",
       "      <td>0.083333</td>\n",
       "      <td>0.250000</td>\n",
       "      <td>0.065366</td>\n",
       "      <td>0.012256</td>\n",
       "    </tr>\n",
       "    <tr>\n",
       "      <th>25%</th>\n",
       "      <td>6.000000</td>\n",
       "      <td>2.0</td>\n",
       "      <td>0.0</td>\n",
       "      <td>0.0</td>\n",
       "      <td>0.0</td>\n",
       "      <td>0.0</td>\n",
       "      <td>0.000000</td>\n",
       "      <td>0.000000</td>\n",
       "      <td>0.000000</td>\n",
       "      <td>0.000000</td>\n",
       "      <td>...</td>\n",
       "      <td>51.000000</td>\n",
       "      <td>24.259615</td>\n",
       "      <td>18.106509</td>\n",
       "      <td>12.000000</td>\n",
       "      <td>2.000000</td>\n",
       "      <td>1.566667</td>\n",
       "      <td>0.240385</td>\n",
       "      <td>0.721154</td>\n",
       "      <td>0.497872</td>\n",
       "      <td>0.077608</td>\n",
       "    </tr>\n",
       "    <tr>\n",
       "      <th>50%</th>\n",
       "      <td>11.000000</td>\n",
       "      <td>2.0</td>\n",
       "      <td>0.0</td>\n",
       "      <td>0.0</td>\n",
       "      <td>0.0</td>\n",
       "      <td>0.0</td>\n",
       "      <td>0.000000</td>\n",
       "      <td>0.000000</td>\n",
       "      <td>0.666667</td>\n",
       "      <td>0.000000</td>\n",
       "      <td>...</td>\n",
       "      <td>51.000000</td>\n",
       "      <td>26.571429</td>\n",
       "      <td>20.231405</td>\n",
       "      <td>12.000000</td>\n",
       "      <td>2.000000</td>\n",
       "      <td>2.909091</td>\n",
       "      <td>0.272727</td>\n",
       "      <td>0.818182</td>\n",
       "      <td>0.653856</td>\n",
       "      <td>0.118470</td>\n",
       "    </tr>\n",
       "    <tr>\n",
       "      <th>75%</th>\n",
       "      <td>22.000000</td>\n",
       "      <td>2.0</td>\n",
       "      <td>0.0</td>\n",
       "      <td>0.0</td>\n",
       "      <td>0.0</td>\n",
       "      <td>0.0</td>\n",
       "      <td>0.000000</td>\n",
       "      <td>0.000000</td>\n",
       "      <td>0.750000</td>\n",
       "      <td>0.000000</td>\n",
       "      <td>...</td>\n",
       "      <td>131.000000</td>\n",
       "      <td>89.750000</td>\n",
       "      <td>42.718750</td>\n",
       "      <td>63.000000</td>\n",
       "      <td>2.000000</td>\n",
       "      <td>3.076923</td>\n",
       "      <td>0.395122</td>\n",
       "      <td>1.185366</td>\n",
       "      <td>0.653856</td>\n",
       "      <td>0.132135</td>\n",
       "    </tr>\n",
       "    <tr>\n",
       "      <th>max</th>\n",
       "      <td>56.000000</td>\n",
       "      <td>2.0</td>\n",
       "      <td>0.0</td>\n",
       "      <td>0.0</td>\n",
       "      <td>0.0</td>\n",
       "      <td>0.0</td>\n",
       "      <td>0.666667</td>\n",
       "      <td>0.609756</td>\n",
       "      <td>0.916667</td>\n",
       "      <td>0.857143</td>\n",
       "      <td>...</td>\n",
       "      <td>166.000000</td>\n",
       "      <td>172.333333</td>\n",
       "      <td>83.000000</td>\n",
       "      <td>227.000000</td>\n",
       "      <td>2.000000</td>\n",
       "      <td>4.285714</td>\n",
       "      <td>3.000000</td>\n",
       "      <td>2.625000</td>\n",
       "      <td>0.815480</td>\n",
       "      <td>0.203870</td>\n",
       "    </tr>\n",
       "  </tbody>\n",
       "</table>\n",
       "<p>8 rows × 232 columns</p>\n",
       "</div>"
      ],
      "text/plain": [
       "          nsites  nelems     H    Li    Be     B          C          N  \\\n",
       "count  59.000000    59.0  59.0  59.0  59.0  59.0  59.000000  59.000000   \n",
       "mean   16.406780     2.0   0.0   0.0   0.0   0.0   0.026836   0.024742   \n",
       "std    14.441462     0.0   0.0   0.0   0.0   0.0   0.125183   0.114334   \n",
       "min     2.000000     2.0   0.0   0.0   0.0   0.0   0.000000   0.000000   \n",
       "25%     6.000000     2.0   0.0   0.0   0.0   0.0   0.000000   0.000000   \n",
       "50%    11.000000     2.0   0.0   0.0   0.0   0.0   0.000000   0.000000   \n",
       "75%    22.000000     2.0   0.0   0.0   0.0   0.0   0.000000   0.000000   \n",
       "max    56.000000     2.0   0.0   0.0   0.0   0.0   0.666667   0.609756   \n",
       "\n",
       "               O          F  ...  MagpieData range SpaceGroupNumber  \\\n",
       "count  59.000000  59.000000  ...                          59.000000   \n",
       "mean    0.443316   0.089387  ...                          78.101695   \n",
       "std     0.366590   0.248779  ...                          46.441916   \n",
       "min     0.000000   0.000000  ...                          48.000000   \n",
       "25%     0.000000   0.000000  ...                          51.000000   \n",
       "50%     0.666667   0.000000  ...                          51.000000   \n",
       "75%     0.750000   0.000000  ...                         131.000000   \n",
       "max     0.916667   0.857143  ...                         166.000000   \n",
       "\n",
       "       MagpieData mean SpaceGroupNumber  MagpieData avg_dev SpaceGroupNumber  \\\n",
       "count                         59.000000                            59.000000   \n",
       "mean                          54.111544                            31.562049   \n",
       "std                           48.350098                            22.615943   \n",
       "min                           16.250000                             7.791667   \n",
       "25%                           24.259615                            18.106509   \n",
       "50%                           26.571429                            20.231405   \n",
       "75%                           89.750000                            42.718750   \n",
       "max                          172.333333                            83.000000   \n",
       "\n",
       "       MagpieData mode SpaceGroupNumber  avg s valence electrons  \\\n",
       "count                         59.000000                59.000000   \n",
       "mean                          38.711864                 1.966808   \n",
       "std                           53.803298                 0.118302   \n",
       "min                           12.000000                 1.500000   \n",
       "25%                           12.000000                 2.000000   \n",
       "50%                           12.000000                 2.000000   \n",
       "75%                           63.000000                 2.000000   \n",
       "max                          227.000000                 2.000000   \n",
       "\n",
       "       avg p valence electrons  avg d valence electrons  \\\n",
       "count                59.000000                59.000000   \n",
       "mean                  2.418150                 0.513460   \n",
       "std                   1.186384                 0.672581   \n",
       "min                   0.000000                 0.083333   \n",
       "25%                   1.566667                 0.240385   \n",
       "50%                   2.909091                 0.272727   \n",
       "75%                   3.076923                 0.395122   \n",
       "max                   4.285714                 3.000000   \n",
       "\n",
       "       avg f valence electrons  max ionic char  avg ionic char  \n",
       "count                59.000000       59.000000       59.000000  \n",
       "mean                  1.042498        0.553263        0.104254  \n",
       "std                   0.547679        0.231287        0.046288  \n",
       "min                   0.250000        0.065366        0.012256  \n",
       "25%                   0.721154        0.497872        0.077608  \n",
       "50%                   0.818182        0.653856        0.118470  \n",
       "75%                   1.185366        0.653856        0.132135  \n",
       "max                   2.625000        0.815480        0.203870  \n",
       "\n",
       "[8 rows x 232 columns]"
      ]
     },
     "execution_count": 23,
     "metadata": {},
     "output_type": "execute_result"
    }
   ],
   "source": [
    "data_DFT.describe()"
   ]
  },
  {
   "cell_type": "code",
   "execution_count": 24,
   "metadata": {},
   "outputs": [
    {
     "name": "stdout",
     "output_type": "stream",
     "text": [
      "{'Dy', 'Ac', 'Cd', 'Y', 'Sb', 'Ca', 'Br', 'Pu', 'Ru', 'Sr', 'H', 'Pm', 'P', 'nsites', 'Te', 'Ti', 'Nb', 'comp_fractions', 'Sm', 'Pd', 'Lu', 'Ho', 'Rb', 'Np', 'Er', 'Ag', 'Ba', 'Ga', 'Rh', 'Ni', 'Li', 'Hg', 'Tb', 'pretty_comp', 'Zr', 'In', 'Sn', 'Bi', 'Sc', 'composition', 'As', 'V', 'Ir', 'Tl', 'Au', 'Fe', 'Zn', 'Cu', 'Ce', 'W', 'S', 'K', 'Al', 'Re', 'Cr', 'Pt', 'Nd', 'Hf', 'Be', 'Pa', 'comp_dict', 'Pb', 'I', 'Pr', 'Mg', 'Co', 'Th', 'B', 'Tc', 'Mn', 'La', 'material_id', 'Os', 'Yb', 'Cs', 'Gd', 'Kr', 'comp_obj', 'Ge', 'nelems', 'Ta', 'Eu', 'Se', 'Tm', 'Na', 'Cl', 'Xe'}\n"
     ]
    }
   ],
   "source": [
    "properties = set(data_DFT.columns.tolist()) - (set(feature_labels) | set(elements_present))\n",
    "print (properties)"
   ]
  },
  {
   "cell_type": "code",
   "execution_count": 25,
   "metadata": {},
   "outputs": [
    {
     "data": {
      "text/plain": [
       "(59, 236)"
      ]
     },
     "execution_count": 25,
     "metadata": {},
     "output_type": "execute_result"
    }
   ],
   "source": [
    "for col in ['comp_fractions', 'comp_dict', 'comp_obj']: data_DFT.drop(col, axis=1, inplace=True)\n",
    "data_DFT.shape"
   ]
  },
  {
   "cell_type": "code",
   "execution_count": 26,
   "metadata": {},
   "outputs": [
    {
     "name": "stdout",
     "output_type": "stream",
     "text": [
      "{'Dy', 'Ac', 'Cd', 'Y', 'Sb', 'Ca', 'Br', 'Pu', 'Ru', 'Sr', 'H', 'Pm', 'P', 'nsites', 'Te', 'Ti', 'Nb', 'Sm', 'Pd', 'Lu', 'Ho', 'Rb', 'Np', 'Er', 'Ag', 'Ba', 'Ga', 'Rh', 'Ni', 'Li', 'Hg', 'Tb', 'Zr', 'In', 'Sn', 'Bi', 'Sc', 'composition', 'As', 'V', 'Ir', 'Tl', 'Au', 'Fe', 'Zn', 'Cu', 'Ce', 'W', 'S', 'K', 'Al', 'Re', 'Cr', 'Pt', 'Nd', 'Hf', 'Be', 'Pa', 'Pb', 'I', 'Pr', 'Mg', 'Co', 'Th', 'B', 'Tc', 'Mn', 'La', 'material_id', 'Os', 'Yb', 'Cs', 'Gd', 'Kr', 'Ge', 'nelems', 'Ta', 'Eu', 'Se', 'Tm', 'Na', 'Cl', 'Xe'}\n"
     ]
    }
   ],
   "source": [
    "properties = set(data_DFT.columns.tolist()) - (set(feature_labels) | set(elements_present) |{'pretty_comp'})\n",
    "print (properties)"
   ]
  },
  {
   "cell_type": "code",
   "execution_count": 27,
   "metadata": {},
   "outputs": [],
   "source": [
    "data_DFT = data_DFT[['pretty_comp']+elements_tl+list(feature_labels)+list(properties)]"
   ]
  },
  {
   "cell_type": "code",
   "execution_count": 28,
   "metadata": {},
   "outputs": [
    {
     "name": "stdout",
     "output_type": "stream",
     "text": [
      "Index(['pretty_comp', 'H', 'Li', 'Be', 'B', 'C', 'N', 'O', 'F', 'Na',\n",
      "       ...\n",
      "       'Kr', 'Ge', 'nelems', 'Ta', 'Eu', 'Se', 'Tm', 'Na', 'Cl', 'Xe'],\n",
      "      dtype='object', length=315)\n",
      "(59, 315)\n"
     ]
    }
   ],
   "source": [
    "print (data_DFT.columns)\n",
    "print (data_DFT.shape)"
   ]
  },
  {
   "cell_type": "code",
   "execution_count": null,
   "metadata": {},
   "outputs": [],
   "source": [
    "data_DFT.to_csv('Compounds_output.csv', index=False)"
   ]
  },
  {
   "cell_type": "code",
   "execution_count": null,
   "metadata": {},
   "outputs": [
    {
     "data": {
      "application/vnd.jupyter.widget-view+json": {
       "model_id": "6f772949ea28410fbb732cca46636c75",
       "version_major": 2,
       "version_minor": 0
      },
      "text/plain": [
       "Retrieving MaterialsDoc documents:   0%|          | 0/1 [00:00<?, ?it/s]"
      ]
     },
     "metadata": {},
     "output_type": "display_data"
    },
    {
     "name": "stdout",
     "output_type": "stream",
     "text": [
      "Minimum Coordination Number: 4\n",
      "Maximum Coordination Number: 8\n",
      "Average Coordination Number: 4.903225806451613\n"
     ]
    }
   ],
   "source": [
    "##### to calculate the statistic for the coordenation number using some MP structure. Execute this in loop for all the dataset\n",
    "\n",
    "import numpy as np\n",
    "import pandas as pd\n",
    "from mp_api.client import MPRester\n",
    "from pymatgen.analysis.local_env import CrystalNN\n",
    "\n",
    "# Assuming df is already loaded with material IDs in a column named 'material_id'\n",
    "\n",
    "# Connect to Materials Project API\n",
    "with MPRester(\"YOUR KEY HERE\") as mpr:\n",
    "    \n",
    "    # Initialize the CrystalNN object\n",
    "    cnn = CrystalNN()\n",
    "\n",
    "    # Lists to store the results\n",
    "    min_cn_list = []\n",
    "    max_cn_list = []\n",
    "    avg_cn_list = []\n",
    "\n",
    "    # Iterate over the material_id column in the existing DataFrame\n",
    "    for material_id in data_DFT['material_id']:\n",
    "        # Get the structure for each material_id\n",
    "        struc = mpr.get_structure_by_material_id(material_id)\n",
    "        \n",
    "        # List to store coordination numbers for the current structure\n",
    "        cn_list = []\n",
    "\n",
    "        # Iterate over all sites in the structure and get coordination numbers\n",
    "        for i in range(len(struc)):\n",
    "            cn = cnn.get_cn(struc, i)\n",
    "            cn_list.append(cn)\n",
    "\n",
    "        # Calculate min, max, and average coordination numbers\n",
    "        min_cn = min(cn_list)\n",
    "        max_cn = max(cn_list)\n",
    "        avg_cn = np.mean(cn_list)\n",
    "\n",
    "        # Append results to the respective lists\n",
    "        min_cn_list.append(min_cn)\n",
    "        max_cn_list.append(max_cn)\n",
    "        avg_cn_list.append(avg_cn)\n",
    "\n",
    "    # Add the results to the DataFrame\n",
    "    data_DFT['min_coordination_number'] = min_cn_list\n",
    "    data_DFT['max_coordination_number'] = max_cn_list\n",
    "    data_DFT['avg_coordination_number'] = avg_cn_list\n",
    "\n",
    "    # Save the results to a CSV file\n",
    "    data_DFT.to_csv(\"coordination_numbers_valuers.csv\", index=False)\n",
    "\n",
    "    print(\"Results saved to coordination_numbers.csv\")\n",
    "\n",
    "####add the valuer to the Compound_output file together with space group number"
   ]
  }
 ],
 "metadata": {
  "kernelspec": {
   "display_name": "Python 3",
   "language": "python",
   "name": "python3"
  },
  "language_info": {
   "codemirror_mode": {
    "name": "ipython",
    "version": 3
   },
   "file_extension": ".py",
   "mimetype": "text/x-python",
   "name": "python",
   "nbconvert_exporter": "python",
   "pygments_lexer": "ipython3",
   "version": "3.12.2"
  }
 },
 "nbformat": 4,
 "nbformat_minor": 2
}
